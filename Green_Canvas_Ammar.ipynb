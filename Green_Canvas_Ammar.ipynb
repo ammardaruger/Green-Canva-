{
  "cells": [
    {
      "cell_type": "code",
      "execution_count": 57,
      "metadata": {
        "id": "6rCp8eM6qjEB",
        "colab": {
          "base_uri": "https://localhost:8080/"
        },
        "outputId": "63c12619-d0e8-4a92-ff46-771108700dcc"
      },
      "outputs": [
        {
          "output_type": "stream",
          "name": "stdout",
          "text": [
            "Drive already mounted at /content/drive; to attempt to forcibly remount, call drive.mount(\"/content/drive\", force_remount=True).\n"
          ]
        }
      ],
      "source": [
        "import pandas as pd\n",
        "import tensorflow as tf\n",
        "from sklearn import preprocessing\n",
        "import numpy as np\n",
        "\n",
        "from google.colab import drive\n",
        "drive.mount('/content/drive')"
      ]
    },
    {
      "cell_type": "code",
      "execution_count": 87,
      "metadata": {
        "colab": {
          "base_uri": "https://localhost:8080/"
        },
        "id": "sGFsxKZ5rCT6",
        "outputId": "27ba99f5-50a8-45ea-fab5-7ee12022cb65"
      },
      "outputs": [
        {
          "output_type": "stream",
          "name": "stdout",
          "text": [
            "(126990, 9) (141279, 9)\n"
          ]
        }
      ],
      "source": [
        "##Importing Data files\n",
        "btc = pd.read_csv(\"/content/drive/MyDrive/green canva/BTC.csv\")\n",
        "nvda = pd.read_csv(\"/content/drive/MyDrive/green canva/NVDA.csv\")\n",
        "\n",
        "print(btc.shape,nvda.shape)"
      ]
    },
    {
      "cell_type": "code",
      "execution_count": 88,
      "metadata": {
        "id": "vqe3hRm7w8t5"
      },
      "outputs": [],
      "source": [
        "def normalize(df):\n",
        "    result = df.copy()\n",
        "    for feature_name in df.columns:\n",
        "        max_value = df[feature_name].max()\n",
        "        min_value = df[feature_name].min()\n",
        "        result[feature_name] = (df[feature_name] - min_value) / (max_value - min_value)\n",
        "    return result "
      ]
    },
    {
      "cell_type": "code",
      "execution_count": 89,
      "metadata": {
        "colab": {
          "base_uri": "https://localhost:8080/"
        },
        "id": "KJ_-8unWxrMs",
        "outputId": "8bb4a8b6-05f1-4596-cb05-6fb0ac261256"
      },
      "outputs": [
        {
          "output_type": "stream",
          "name": "stdout",
          "text": [
            "          O         H         L         C         V        DV  pctGain/Loss  \\\n",
            "0  0.090018  0.089246  0.090167  0.090986  0.272828  0.000811      0.004481   \n",
            "1  0.091092  0.089600  0.090766  0.091153  0.286121  0.016047     -0.004061   \n",
            "2  0.091107  0.089759  0.091171  0.091001  0.269569  0.000037     -0.002973   \n",
            "3  0.091107  0.089552  0.090931  0.090773  0.271621  0.001446     -0.011494   \n",
            "4  0.090879  0.089484  0.091070  0.090588  0.270883  0.000726      0.007366   \n",
            "\n",
            "   classification_target  \n",
            "0                    1.0  \n",
            "1                    0.0  \n",
            "2                    0.0  \n",
            "3                    0.0  \n",
            "4                    1.0  \n"
          ]
        }
      ],
      "source": [
        "##Data Processing BTC File\n",
        "btc_X = btc.iloc[:,[1,2,3,4,5,6]].copy()\n",
        "btc_Y = btc.iloc[:,[7,8]].copy()\n",
        "\n",
        "#normalization\n",
        "btc_ = normalize(btc_X)\n",
        "btc = pd.concat([btc_,btc_Y],axis=1)\n",
        "print(btc.head())"
      ]
    },
    {
      "cell_type": "code",
      "execution_count": 90,
      "metadata": {
        "colab": {
          "base_uri": "https://localhost:8080/"
        },
        "id": "eOgZ1FaU36lB",
        "outputId": "c7dfb534-e398-4f11-c82f-68326d44ce4c"
      },
      "outputs": [
        {
          "output_type": "stream",
          "name": "stdout",
          "text": [
            "(141279, 8)\n"
          ]
        }
      ],
      "source": [
        "##Data Processing NVDA File\n",
        "nvda_X = nvda.iloc[:,[1,2,3,4,5,6]].copy()\n",
        "nvda_Y = nvda.iloc[:,[7,8]].copy()\n",
        "\n",
        "#normalization\n",
        "nvda_X = normalize(nvda_X)\n",
        "nvda = pd.concat([nvda_X,nvda_Y],axis=1)\n",
        "print(nvda.shape)"
      ]
    },
    {
      "cell_type": "code",
      "execution_count": 91,
      "metadata": {
        "colab": {
          "base_uri": "https://localhost:8080/"
        },
        "id": "hGHgP0Tn44ZO",
        "outputId": "065d61ef-b700-48cb-c175-9563584f8b5b"
      },
      "outputs": [
        {
          "output_type": "stream",
          "name": "stdout",
          "text": [
            "(268269, 8)\n"
          ]
        }
      ],
      "source": [
        "####Combining Normalized Datasets\n",
        "df = pd.concat([btc,nvda],axis=0)\n",
        "print(df.shape)\n",
        "\n"
      ]
    },
    {
      "cell_type": "code",
      "execution_count": 92,
      "metadata": {
        "colab": {
          "base_uri": "https://localhost:8080/"
        },
        "id": "M0BRcucD7NB3",
        "outputId": "e09d2a59-33c4-4b95-ae52-ab8bb3950aa0"
      },
      "outputs": [
        {
          "output_type": "stream",
          "name": "stdout",
          "text": [
            "(80481, 1)\n",
            "(187788, 1)\n"
          ]
        }
      ],
      "source": [
        "###Splitting Data into Training and Test Data\n",
        "from sklearn.model_selection import train_test_split\n",
        "\n",
        "train,test = train_test_split(df,test_size=0.3,random_state=50)\n",
        "train = train.fillna(0)\n",
        "test = test.fillna(0)\n",
        "\n",
        "#train\n",
        "train_X = train.iloc[:,[0,1,2,3,4,5]].copy()\n",
        "train_Y1 = train.iloc[:,[6]].copy()    ##gain \n",
        "train_Y2 =  train.iloc[:,[7]].copy()    ##classification\n",
        "\n",
        "#test\n",
        "test_X = test.iloc[:,[0,1,2,3,4,5]].copy()\n",
        "test_Y1 = test.iloc[:,[6]].copy()    ##gain \n",
        "test_Y2 =  test.iloc[:,[7]].copy()    ##classification\n",
        "\n",
        "print( test_Y2.shape)\n",
        "print( train_Y2.shape)\n"
      ]
    },
    {
      "cell_type": "code",
      "execution_count": 93,
      "metadata": {
        "id": "QwliBM5F74Ey"
      },
      "outputs": [],
      "source": [
        "### Model for pctGain/Loss Prediction\n",
        "##Applying multivariant linear regression"
      ]
    },
    {
      "cell_type": "code",
      "execution_count": 98,
      "metadata": {
        "colab": {
          "base_uri": "https://localhost:8080/",
          "height": 609
        },
        "id": "31nMxS1D-m25",
        "outputId": "3ba297b6-ca3e-44b6-8f40-2575362dec52"
      },
      "outputs": [
        {
          "output_type": "execute_result",
          "data": {
            "text/plain": [
              "<matplotlib.collections.PathCollection at 0x7f20dfc51460>"
            ]
          },
          "metadata": {},
          "execution_count": 98
        },
        {
          "output_type": "display_data",
          "data": {
            "text/plain": [
              "<Figure size 864x720 with 6 Axes>"
            ],
            "image/png": "[encoded data removed]"
          },
          "metadata": {
            "needs_background": "light"
          }
        }
      ],
      "source": [
        "from sklearn import linear_model\n",
        "import matplotlib.pyplot as plt\n",
        "\n",
        "\n",
        "## Plotting dependent variables againt independent variables to show distribution of normalized data\n",
        "fig,ax = plt.subplots(2,3,figsize=(12,10))\n",
        " \n",
        "y=df['pctGain/Loss']\n",
        "\n",
        "ax[0][0].scatter(df[\"O\"],y)\n",
        "ax[0][1].scatter(df[\"H\"],y)\n",
        "ax[0][2].scatter(df[\"L\"],y)\n",
        "ax[1][0].scatter(df[\"C\"],y)\n",
        "ax[1][1].scatter(df[\"V\"],y)\n",
        "ax[1][2].scatter(df[\"DV\"],y)\n",
        "\n"
      ]
    },
    {
      "cell_type": "code",
      "execution_count": 66,
      "metadata": {
        "colab": {
          "base_uri": "https://localhost:8080/"
        },
        "id": "KQ6WRpVDfeIE",
        "outputId": "5125ce31-4198-4772-baf9-1f189fa6a68f"
      },
      "outputs": [
        {
          "output_type": "stream",
          "name": "stdout",
          "text": [
            "Intercept: \n",
            " [0.00023505]\n",
            "Coefficients: \n",
            " [[-0.38992556  0.93834866  0.44289218 -0.99312836  0.00419623  0.00183382]]\n"
          ]
        }
      ],
      "source": [
        "from sklearn import linear_model\n",
        "import statsmodels.api as sm\n",
        "\n",
        "## Creating and implementing model\n",
        "x=train_X  #independent variables\n",
        "y=train_Y1  #dependent variable\n",
        "\n",
        "# Regression Model\n",
        "reg = linear_model.LinearRegression()\n",
        "reg.fit(x,y)\n",
        "\n",
        "print('Intercept: \\n', reg.intercept_)\n",
        "print('Coefficients: \\n', reg.coef_)\n",
        "\n",
        "#Predicted Values\n",
        "predict = reg.predict(test_X)"
      ]
    },
    {
      "cell_type": "code",
      "execution_count": 67,
      "metadata": {
        "colab": {
          "base_uri": "https://localhost:8080/"
        },
        "id": "hy6KAwLioKZy",
        "outputId": "00b8d85d-9b87-44d5-fa8a-7441b6a534d9"
      },
      "outputs": [
        {
          "output_type": "execute_result",
          "data": {
            "text/plain": [
              "(80481, 1)"
            ]
          },
          "metadata": {},
          "execution_count": 67
        }
      ],
      "source": [
        "predict.shape"
      ]
    },
    {
      "cell_type": "code",
      "execution_count": 68,
      "metadata": {
        "colab": {
          "base_uri": "https://localhost:8080/"
        },
        "id": "EuDFlxzXfeKn",
        "outputId": "f62f7556-7865-422d-e50e-f74574f9effc"
      },
      "outputs": [
        {
          "output_type": "execute_result",
          "data": {
            "text/plain": [
              "0.00015206484187205274"
            ]
          },
          "metadata": {},
          "execution_count": 68
        }
      ],
      "source": [
        "from sklearn.metrics import mean_squared_error \n",
        "\n",
        "## Mean Squared Value to check Accuracy   \n",
        "mean_squared_error(test_Y1,predict)"
      ]
    },
    {
      "cell_type": "code",
      "execution_count": 69,
      "metadata": {
        "colab": {
          "base_uri": "https://localhost:8080/",
          "height": 312
        },
        "id": "ScIUU-oyoJbc",
        "outputId": "37110a5b-7a25-4f0e-c6e8-b24feb4e99fd"
      },
      "outputs": [
        {
          "output_type": "execute_result",
          "data": {
            "text/plain": [
              "Text(0.5, 0, 'True Values')"
            ]
          },
          "metadata": {},
          "execution_count": 69
        },
        {
          "output_type": "display_data",
          "data": {
            "text/plain": [
              "<Figure size 432x288 with 1 Axes>"
            ],
            "image/png": "[encoded data removed]"
          },
          "metadata": {
            "needs_background": "light"
          }
        }
      ],
      "source": [
        "## Plotting predicted values against true values\n",
        "plt.scatter(test_Y1,predict)\n",
        "plt.title(\"Linear Regression Output\")\n",
        "plt.ylabel(\"Predicted\")\n",
        "plt.xlabel(\"True Values\")"
      ]
    },
    {
      "cell_type": "code",
      "execution_count": 70,
      "metadata": {
        "id": "fM8UVdzBCeiw"
      },
      "outputs": [],
      "source": [
        "### Binary Classification using Neural Network"
      ]
    },
    {
      "cell_type": "code",
      "execution_count": 71,
      "metadata": {
        "id": "u-TjkTBhY9I4"
      },
      "outputs": [],
      "source": [
        "##Slicing dataset for neural network, converting into numpy array\n",
        "train = train.values\n",
        "test = test.values\n",
        "\n",
        "xtrain = train[:,:6]\n",
        "ytrain = train[:,7]\n",
        "xtest = test[:,:6]\n",
        "ytest = test[:,7]"
      ]
    },
    {
      "cell_type": "code",
      "execution_count": 72,
      "metadata": {
        "id": "70xvtJIXV750",
        "colab": {
          "base_uri": "https://localhost:8080/"
        },
        "outputId": "6eddf1fc-a394-46d8-f730-49493cc9768a"
      },
      "outputs": [
        {
          "output_type": "stream",
          "name": "stdout",
          "text": [
            "Looking in indexes: https://pypi.org/simple, https://us-python.pkg.dev/colab-wheels/public/simple/\n",
            "Requirement already satisfied: scikeras in /usr/local/lib/python3.8/dist-packages (0.9.0)\n",
            "Requirement already satisfied: packaging>=0.21 in /usr/local/lib/python3.8/dist-packages (from scikeras) (21.3)\n",
            "Requirement already satisfied: scikit-learn>=1.0.0 in /usr/local/lib/python3.8/dist-packages (from scikeras) (1.0.2)\n",
            "Requirement already satisfied: pyparsing!=3.0.5,>=2.0.2 in /usr/local/lib/python3.8/dist-packages (from packaging>=0.21->scikeras) (3.0.9)\n",
            "Requirement already satisfied: joblib>=0.11 in /usr/local/lib/python3.8/dist-packages (from scikit-learn>=1.0.0->scikeras) (1.2.0)\n",
            "Requirement already satisfied: threadpoolctl>=2.0.0 in /usr/local/lib/python3.8/dist-packages (from scikit-learn>=1.0.0->scikeras) (3.1.0)\n",
            "Requirement already satisfied: scipy>=1.1.0 in /usr/local/lib/python3.8/dist-packages (from scikit-learn>=1.0.0->scikeras) (1.7.3)\n",
            "Requirement already satisfied: numpy>=1.14.6 in /usr/local/lib/python3.8/dist-packages (from scikit-learn>=1.0.0->scikeras) (1.21.6)\n"
          ]
        }
      ],
      "source": [
        "!pip install scikeras"
      ]
    },
    {
      "cell_type": "code",
      "source": [
        "from sklearn.preprocessing import LabelEncoder,StandardScaler\n",
        "from tensorflow.keras.models import Sequential\n",
        "from tensorflow.keras.layers import Dense\n",
        "from scikeras.wrappers import KerasClassifier\n",
        "from sklearn.model_selection import cross_val_score\n",
        "from sklearn.preprocessing import LabelEncoder\n",
        "from sklearn.model_selection import StratifiedKFold\n",
        "from sklearn.preprocessing import StandardScaler\n",
        "from sklearn.pipeline import Pipeline\n",
        "\n",
        "## Encoding classifiers\n",
        "encoder = LabelEncoder()\n",
        "encoder.fit(ytrain)\n",
        "encoded_Y = encoder.transform(ytrain)\n",
        "\n",
        "\n",
        "# create model\n",
        "model = Sequential()\n",
        "model.add(Dense(60, input_shape=(6,), activation='relu'))\n",
        "model.add(Dense(1, activation='sigmoid'))    #activation function for binary classification \n",
        "# Compile model\n",
        "model.compile(loss='binary_crossentropy', optimizer='adam', metrics=['accuracy'])\n",
        "\n",
        "history = model.fit(x,encoded_Y,batch_size=64,epochs=20,validation_data=(xtest,ytest))"
      ],
      "metadata": {
        "colab": {
          "base_uri": "https://localhost:8080/"
        },
        "id": "iGr1ezOJpf87",
        "outputId": "4ba4b5cc-22be-4a7e-f468-146d8edcf8ce"
      },
      "execution_count": 73,
      "outputs": [
        {
          "output_type": "stream",
          "name": "stdout",
          "text": [
            "Epoch 1/20\n",
            "2935/2935 [==============================] - 8s 2ms/step - loss: 0.6695 - accuracy: 0.6045 - val_loss: 0.6681 - val_accuracy: 0.6074\n",
            "Epoch 2/20\n",
            "2935/2935 [==============================] - 8s 3ms/step - loss: 0.6691 - accuracy: 0.6049 - val_loss: 0.6679 - val_accuracy: 0.6067\n",
            "Epoch 3/20\n",
            "2935/2935 [==============================] - 17s 6ms/step - loss: 0.6691 - accuracy: 0.6049 - val_loss: 0.6678 - val_accuracy: 0.6070\n",
            "Epoch 4/20\n",
            "2935/2935 [==============================] - 14s 5ms/step - loss: 0.6688 - accuracy: 0.6049 - val_loss: 0.6676 - val_accuracy: 0.6068\n",
            "Epoch 5/20\n",
            "2935/2935 [==============================] - 8s 3ms/step - loss: 0.6686 - accuracy: 0.6049 - val_loss: 0.6679 - val_accuracy: 0.6068\n",
            "Epoch 6/20\n",
            "2935/2935 [==============================] - 10s 3ms/step - loss: 0.6683 - accuracy: 0.6050 - val_loss: 0.6670 - val_accuracy: 0.6070\n",
            "Epoch 7/20\n",
            "2935/2935 [==============================] - 8s 3ms/step - loss: 0.6681 - accuracy: 0.6048 - val_loss: 0.6668 - val_accuracy: 0.6067\n",
            "Epoch 8/20\n",
            "2935/2935 [==============================] - 7s 2ms/step - loss: 0.6679 - accuracy: 0.6049 - val_loss: 0.6674 - val_accuracy: 0.6068\n",
            "Epoch 9/20\n",
            "2935/2935 [==============================] - 8s 3ms/step - loss: 0.6678 - accuracy: 0.6050 - val_loss: 0.6668 - val_accuracy: 0.6070\n",
            "Epoch 10/20\n",
            "2935/2935 [==============================] - 7s 2ms/step - loss: 0.6676 - accuracy: 0.6048 - val_loss: 0.6682 - val_accuracy: 0.6074\n",
            "Epoch 11/20\n",
            "2935/2935 [==============================] - 8s 3ms/step - loss: 0.6677 - accuracy: 0.6047 - val_loss: 0.6675 - val_accuracy: 0.6074\n",
            "Epoch 12/20\n",
            "2935/2935 [==============================] - 7s 2ms/step - loss: 0.6676 - accuracy: 0.6049 - val_loss: 0.6668 - val_accuracy: 0.6075\n",
            "Epoch 13/20\n",
            "2935/2935 [==============================] - 7s 2ms/step - loss: 0.6676 - accuracy: 0.6049 - val_loss: 0.6666 - val_accuracy: 0.6075\n",
            "Epoch 14/20\n",
            "2935/2935 [==============================] - 8s 3ms/step - loss: 0.6675 - accuracy: 0.6048 - val_loss: 0.6666 - val_accuracy: 0.6069\n",
            "Epoch 15/20\n",
            "2935/2935 [==============================] - 11s 4ms/step - loss: 0.6674 - accuracy: 0.6047 - val_loss: 0.6668 - val_accuracy: 0.6074\n",
            "Epoch 16/20\n",
            "2935/2935 [==============================] - 7s 2ms/step - loss: 0.6675 - accuracy: 0.6047 - val_loss: 0.6666 - val_accuracy: 0.6075\n",
            "Epoch 17/20\n",
            "2935/2935 [==============================] - 8s 3ms/step - loss: 0.6674 - accuracy: 0.6049 - val_loss: 0.6665 - val_accuracy: 0.6075\n",
            "Epoch 18/20\n",
            "2935/2935 [==============================] - 11s 4ms/step - loss: 0.6674 - accuracy: 0.6049 - val_loss: 0.6665 - val_accuracy: 0.6075\n",
            "Epoch 19/20\n",
            "2935/2935 [==============================] - 8s 3ms/step - loss: 0.6674 - accuracy: 0.6046 - val_loss: 0.6665 - val_accuracy: 0.6073\n",
            "Epoch 20/20\n",
            "2935/2935 [==============================] - 8s 3ms/step - loss: 0.6674 - accuracy: 0.6049 - val_loss: 0.6664 - val_accuracy: 0.6074\n"
          ]
        }
      ]
    },
    {
      "cell_type": "code",
      "source": [
        "score = model.evaluate(xtest,ytest,verbose=0)\n",
        "print(\"Test loss:\", score[0])\n",
        "print(\"Test accuracy:\", score[1])"
      ],
      "metadata": {
        "colab": {
          "base_uri": "https://localhost:8080/"
        },
        "id": "n6XhJDY6ph5a",
        "outputId": "69e42060-62cb-45bb-f03c-79252bda083a"
      },
      "execution_count": 74,
      "outputs": [
        {
          "output_type": "stream",
          "name": "stdout",
          "text": [
            "Test loss: 0.666415274143219\n",
            "Test accuracy: 0.6073731780052185\n"
          ]
        }
      ]
    },
    {
      "cell_type": "code",
      "source": [
        "y_pred= model.predict(xtest)\n",
        "y_pred"
      ],
      "metadata": {
        "colab": {
          "base_uri": "https://localhost:8080/"
        },
        "id": "dKiO-XNrplDj",
        "outputId": "4edcfdee-f812-4c92-dc55-27f813ac07f8"
      },
      "execution_count": 75,
      "outputs": [
        {
          "output_type": "stream",
          "name": "stdout",
          "text": [
            "2516/2516 [==============================] - 5s 2ms/step\n"
          ]
        },
        {
          "output_type": "execute_result",
          "data": {
            "text/plain": [
              "array([[0.44563907],\n",
              "       [0.42465624],\n",
              "       [0.37054223],\n",
              "       ...,\n",
              "       [0.3576531 ],\n",
              "       [0.3638686 ],\n",
              "       [0.45368516]], dtype=float32)"
            ]
          },
          "metadata": {},
          "execution_count": 75
        }
      ]
    },
    {
      "cell_type": "code",
      "source": [
        "## Graph to show accuracy of model\n",
        "pd.DataFrame(history.history).plot(figsize=(8,5))\n",
        "plt.show()"
      ],
      "metadata": {
        "colab": {
          "base_uri": "https://localhost:8080/",
          "height": 320
        },
        "id": "_wutKtePpmHc",
        "outputId": "60d2f829-5d8d-4515-a1a3-4d802dadd259"
      },
      "execution_count": 76,
      "outputs": [
        {
          "output_type": "display_data",
          "data": {
            "text/plain": [
              "<Figure size 576x360 with 1 Axes>"
            ],
            "image/png": "[encoded data removed]"
          },
          "metadata": {
            "needs_background": "light"
          }
        }
      ]
    },
    {
      "cell_type": "code",
      "source": [
        "##### Binary Classification using Linear Regression"
      ],
      "metadata": {
        "id": "--IcvfK_pnVk"
      },
      "execution_count": 77,
      "outputs": []
    },
    {
      "cell_type": "code",
      "source": [
        "from sklearn import linear_model\n",
        "import statsmodels.api as sm\n",
        "\n",
        "x=xtrain\n",
        "y=ytrain\n",
        "\n",
        "reg = linear_model.LinearRegression()\n",
        "reg.fit(x,y)\n",
        "\n",
        "print('Intercept: \\n', reg.intercept_)\n",
        "print('Coefficients: \\n', reg.coef_)\n",
        "\n",
        "predict = reg.predict(xtest)\n",
        "predict = np.rint(predict)  ##Round values to 0 or 1"
      ],
      "metadata": {
        "colab": {
          "base_uri": "https://localhost:8080/"
        },
        "id": "nGddS5MKpw6y",
        "outputId": "75474464-a2dc-4522-f400-85691a9ecee0"
      },
      "execution_count": 78,
      "outputs": [
        {
          "output_type": "stream",
          "name": "stdout",
          "text": [
            "Intercept: \n",
            " 0.4129493935577974\n",
            "Coefficients: \n",
            " [ -7.33075429  25.82179963  -1.93098029 -16.6688273    0.18140246\n",
            "   0.33666145]\n"
          ]
        }
      ]
    },
    {
      "cell_type": "code",
      "source": [
        "from sklearn.metrics import accuracy_score\n",
        "## Check Accuracy of Model\n",
        "accuracy_score(ytest,predict)"
      ],
      "metadata": {
        "colab": {
          "base_uri": "https://localhost:8080/"
        },
        "id": "zJhzDsNrp8YR",
        "outputId": "44dadabe-35d3-4bf5-ccb7-cbf21384f0fe"
      },
      "execution_count": 79,
      "outputs": [
        {
          "output_type": "execute_result",
          "data": {
            "text/plain": [
              "0.6095972962562592"
            ]
          },
          "metadata": {},
          "execution_count": 79
        }
      ]
    },
    {
      "cell_type": "code",
      "source": [
        " ## Conclusion: Accuracy of Neural Network and Linear Regression are very similar therfore most likely the models are working at their best capability."
      ],
      "metadata": {
        "id": "FVOxo3PqqD2r"
      },
      "execution_count": 80,
      "outputs": []
    }
  ],
  "metadata": {
    "colab": {
      "provenance": []
    },
    "kernelspec": {
      "display_name": "Python 3",
      "name": "python3"
    },
    "language_info": {
      "name": "python"
    }
  },
  "nbformat": 4,
  "nbformat_minor": 0
}